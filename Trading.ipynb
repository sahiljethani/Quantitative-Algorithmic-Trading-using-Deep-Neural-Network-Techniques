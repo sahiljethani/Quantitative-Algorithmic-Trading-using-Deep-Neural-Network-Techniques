{
  "nbformat": 4,
  "nbformat_minor": 0,
  "metadata": {
    "colab": {
      "name": "Trading.ipynb",
      "provenance": [],
      "collapsed_sections": [],
      "mount_file_id": "1UGhda1uvyTyiS4WqzNDIzbQLbifJte1a",
      "authorship_tag": "ABX9TyPwrhFYKkQhCdJjRsPGwkpa"
    },
    "kernelspec": {
      "name": "python3",
      "display_name": "Python 3"
    },
    "language_info": {
      "name": "python"
    }
  },
  "cells": [
    {
      "cell_type": "markdown",
      "metadata": {
        "id": "Ohd7o8ND2oUW"
      },
      "source": [
        "Installing and Importing Necessary Libraries: "
      ]
    },
    {
      "cell_type": "code",
      "metadata": {
        "id": "KpWnPmwQQDMn"
      },
      "source": [
        "!pip install tensorflow-gpu==1.15.0 tensorflow==1.15.0 stable-baselines gym-anytrading gym\n",
        "!pip install quantstats\n",
        "!pip install finta\n",
        "!pip install ta"
      ],
      "execution_count": null,
      "outputs": []
    },
    {
      "cell_type": "code",
      "metadata": {
        "id": "igkG3gqOQUWg"
      },
      "source": [
        "# Processing libraries\n",
        "import numpy as np\n",
        "import pandas as pd\n",
        "from matplotlib import pyplot as plt\n",
        "from finta import TA\n",
        "from ta.utils import dropna\n",
        "from ta.trend import MACD\n",
        "\n",
        "# Reinforcement Learning\n",
        "import gym\n",
        "import gym_anytrading\n",
        "from stable_baselines.common.vec_env import DummyVecEnv\n",
        "from stable_baselines import A2C,DQN\n",
        "from gym_anytrading.envs import StocksEnv\n",
        "\n",
        "\n",
        "#Decision Tree\n",
        "from sklearn.model_selection import train_test_split\n",
        "from sklearn.tree import DecisionTreeClassifier\n",
        "from sklearn import tree\n",
        "import graphviz\n",
        "from sklearn.metrics import classification_report\n",
        "\n",
        "#Lstm network\n",
        "from sklearn.preprocessing import MinMaxScaler\n",
        "from tensorflow.keras.models  import Sequential\n",
        "from tensorflow.keras.layers import Dense, Dropout, Embedding, LSTM, Bidirectional"
      ],
      "execution_count": null,
      "outputs": []
    },
    {
      "cell_type": "markdown",
      "metadata": {
        "id": "p3kIDFy0223r"
      },
      "source": [
        "Pre-Processing Data:"
      ]
    },
    {
      "cell_type": "code",
      "metadata": {
        "id": "RHva4XtRQ3HZ"
      },
      "source": [
        "def dataload_rl_tree(path):\n",
        "  \n",
        "  #Getting the data\n",
        "  df = pd.read_csv(path)\n",
        "  df['Date'] = pd.to_datetime(df['Date'])\n",
        "  df.sort_values('Date', ascending=True, inplace=True)\n",
        "  df['Volume'] = df['Volume'].apply(lambda x: float(x))\n",
        "  df.set_index('Date', inplace=True)\n",
        "  df=df.dropna()\n",
        "\n",
        "  #Adding the technical Indicators\n",
        "  \n",
        "  df['EMA20'] = TA.EMA(df, 20)\n",
        "  df['EMA50'] = TA.EMA(df, 50)\n",
        "  df['EMA200']=TA.EMA(df,200)\n",
        "  df['ATR']=TA.ATR(df)\n",
        "  df['ADX'] = TA.ADX(df, 14)\n",
        "  df['RSI'] = TA.RSI(df,14)\n",
        "  df['OBV']=TA.OBV(df)\n",
        "  macd=MACD(df['Close'])\n",
        "  df['MACD']=macd.macd()\n",
        "  df['MACDsignal']=macd.macd_signal()\n",
        "\n",
        "  df.fillna(0, inplace=True)\n",
        "  \n",
        "  df['ClgtEMA200'] = np.where(df['Close'] > df['EMA200'], 1, -1)\n",
        "  df['EMA20gtEMA50'] = np.where(df['EMA20'] > df['EMA50'], 1, -1)\n",
        "  df['EMA50gtEMA200'] = np.where(df['EMA50'] > df['EMA200'], 1, -1)\n",
        "  df['MACDSIGgtMACD'] = np.where(df['MACDsignal'] > df['MACD'], 1, -1)\n",
        "\n",
        "  return df\n",
        "\n"
      ],
      "execution_count": null,
      "outputs": []
    },
    {
      "cell_type": "code",
      "metadata": {
        "id": "J0_eoQhCSK2-"
      },
      "source": [
        "path='/content/drive/MyDrive/stockmarket/RELIANCE.NS.csv'\n",
        "\n",
        "df_rl=dataload_rl_tree(path)\n",
        "\n",
        "df_tree=dataload_rl_tree(path)\n",
        "\n",
        "df_lstm=pd.read_csv(path,header=0,usecols=['Date','Close'],parse_dates=True,index_col='Date')\n",
        "df_lstm=df_lstm.dropna()\n",
        "\n",
        "df_ensemble=df_lstm\n",
        "\n",
        "df_rl.tail()\n",
        "df_tree.tail()\n",
        "df_lstm.tail()"
      ],
      "execution_count": null,
      "outputs": []
    },
    {
      "cell_type": "markdown",
      "metadata": {
        "id": "FiUnIHS6u4Ng"
      },
      "source": [
        "Reinforcement Learning:"
      ]
    },
    {
      "cell_type": "code",
      "metadata": {
        "id": "ksqgdHNNu3io"
      },
      "source": [
        "#Making a custom trading environment to include Technical Indicators\n",
        "\n",
        "def add_signals(env):\n",
        "    start = env.frame_bound[0] - env.window_size\n",
        "    end = env.frame_bound[1]\n",
        "    prices = env.df.loc[:, 'Low'].to_numpy()[start:end]\n",
        "    signal_features = env.df.loc[:, ['EMA50gtEMA200','RSI', 'ADX','ATR','MACDSIGgtMACD','ClgtEMA200','EMA20gtEMA50','OBV']].to_numpy()[start:end]\n",
        "    return prices, signal_features"
      ],
      "execution_count": null,
      "outputs": []
    },
    {
      "cell_type": "code",
      "metadata": {
        "id": "1aFIcY6XTikx"
      },
      "source": [
        "train_length=int(len(df_rl)*0.7)\n",
        "print(train_length)\n",
        "print(len(df_rl))"
      ],
      "execution_count": null,
      "outputs": []
    },
    {
      "cell_type": "code",
      "metadata": {
        "id": "XcaGFojSu_oH"
      },
      "source": [
        "class MyCustomEnv(StocksEnv):\n",
        "    _process_data = add_signals\n",
        "    \n",
        "env2 = MyCustomEnv(df=df_rl, window_size=10, frame_bound=(10,train_length))"
      ],
      "execution_count": null,
      "outputs": []
    },
    {
      "cell_type": "code",
      "metadata": {
        "id": "xojq4gotvEFv"
      },
      "source": [
        "# Making the dummy enivornment \n",
        "\n",
        "env_maker = lambda: env2\n",
        "env = DummyVecEnv([env_maker])"
      ],
      "execution_count": null,
      "outputs": []
    },
    {
      "cell_type": "code",
      "metadata": {
        "id": "L4BijL-SvHUX"
      },
      "source": [
        "# Training the model \n",
        "\n",
        "model = A2C('MlpLstmPolicy', env, verbose=1,tensorboard_log='/content/drive/MyDrive/stockmarket/Tensorboard/A2C') \n",
        "model.learn(total_timesteps=1000000)"
      ],
      "execution_count": null,
      "outputs": []
    },
    {
      "cell_type": "code",
      "metadata": {
        "id": "ZsPNlX2lH0vI"
      },
      "source": [
        "%load_ext tensorboard"
      ],
      "execution_count": null,
      "outputs": []
    },
    {
      "cell_type": "code",
      "metadata": {
        "id": "iPXW-vV2H3L7"
      },
      "source": [
        "#To get the tensorboard log\n",
        "\n",
        "%tensorboard --logdir '/content/drive/MyDrive/stockmarket/Tensorboard/A2C/A2C_1'"
      ],
      "execution_count": null,
      "outputs": []
    },
    {
      "cell_type": "code",
      "metadata": {
        "id": "HO_ocmUbvZjZ"
      },
      "source": [
        "#Remove the comment to save the model\n",
        "\n",
        "#model.save('/content/drive/MyDrive/stockmarket/a2c.h5')"
      ],
      "execution_count": null,
      "outputs": []
    },
    {
      "cell_type": "code",
      "metadata": {
        "id": "dUZW2zGwU88j"
      },
      "source": [
        "# Remove the comment to load a previous trained model\n",
        "\n",
        "#model.load('/content/drive/MyDrive/stockmarket/A2C_weights.h5',env)"
      ],
      "execution_count": null,
      "outputs": []
    },
    {
      "cell_type": "code",
      "metadata": {
        "id": "vQMERwpAv_BI"
      },
      "source": [
        "# Evaluating the results and storing the predicition from the model \n",
        "\n",
        "start=train_length-1\n",
        "end=len(df_rl)\n",
        "\n",
        "env = MyCustomEnv(df=df_rl, window_size=10, frame_bound=(start,end))\n",
        "\n",
        "actions=[]\n",
        "\n",
        "obs = env.reset()\n",
        "while True: \n",
        "    obs = obs[np.newaxis, ...]\n",
        "    action, _states = model.predict(obs) \n",
        "    actions.append(action)\n",
        "    obs, rewards, done, info = env.step(action)\n",
        "    if done:\n",
        "        print(\"info\", info)\n",
        "        break\n",
        "        "
      ],
      "execution_count": null,
      "outputs": []
    },
    {
      "cell_type": "code",
      "metadata": {
        "id": "Fx1JzIkMwKXQ"
      },
      "source": [
        "df_ensemble['Rl_pred']=np.NaN\n",
        "df_ensemble.iloc[(len(df_ensemble) - len(actions)):,-1:] = actions\n",
        "\n",
        "trade_dataset=df_ensemble.dropna()\n",
        "trade_dataset['Rl_pred'].iloc[-1]=0\n",
        "print(trade_dataset)"
      ],
      "execution_count": null,
      "outputs": []
    },
    {
      "cell_type": "markdown",
      "metadata": {
        "id": "j7iW-6iKwWhT"
      },
      "source": [
        "Decision Tree:"
      ]
    },
    {
      "cell_type": "code",
      "metadata": {
        "id": "WLuqgSrtwV83"
      },
      "source": [
        "#Normalizing the data and creating the target class\n",
        "\n",
        "df_tree['target_cls'] = np.where(df_tree['Close'].shift(-1) > df_tree['Close'], 1, 0)\n",
        "\n",
        "df_tree['ADX']=df_tree['ADX']/df_tree['ADX'].max()\n",
        "df_tree['EMA20']=df_tree['EMA20']/df_tree['EMA20'].max()\n",
        "df_tree['EMA50']=df_tree['EMA50']/df_tree['EMA50'].max()\n",
        "df_tree['EMA200']=df_tree['EMA200']/df_tree['EMA200'].max()\n",
        "df_tree['ATR']=df_tree['ATR']/df_tree['ATR'].max()\n",
        "\n",
        "df_tree.head()"
      ],
      "execution_count": null,
      "outputs": []
    },
    {
      "cell_type": "code",
      "metadata": {
        "id": "sjVqmlZYwpa4"
      },
      "source": [
        "#Definint the predictor Variables\n",
        "\n",
        "predictors_list = ['EMA200','ADX','EMA50','ATR','EMA20']\n",
        "X = df_tree[predictors_list]\n",
        "X.tail()"
      ],
      "execution_count": null,
      "outputs": []
    },
    {
      "cell_type": "code",
      "metadata": {
        "id": "VCwDVOzDw7UQ"
      },
      "source": [
        "#Splitting the data into training and testing\n",
        "\n",
        "y_cls = df_tree.target_cls\n",
        "y_cls.tail()\n",
        "\n",
        "\n",
        "y=y_cls\n",
        "X_cls_train, X_cls_test, y_cls_train, y_cls_test = train_test_split(X, y, test_size=0.3, random_state=432 ,stratify=y)\n",
        "\n",
        "print (X_cls_train.shape, y_cls_train.shape)\n",
        "print (X_cls_test.shape, y_cls_test.shape)"
      ],
      "execution_count": null,
      "outputs": []
    },
    {
      "cell_type": "code",
      "metadata": {
        "id": "bfIQQL0_xNfY"
      },
      "source": [
        "pd.options.mode.chained_assignment = None"
      ],
      "execution_count": null,
      "outputs": []
    },
    {
      "cell_type": "code",
      "metadata": {
        "id": "Qjs3CoKex3Ow"
      },
      "source": [
        "def returns(df,clf,y_cls_pred):\n",
        "  df['y_cls_pred'] = np.NaN\n",
        "  df.iloc[(len(df) - len(y_cls_pred)):,-1:] = y_cls_pred\n",
        "  trade_dataset = df.dropna()\n",
        "  trade_dataset['Tomorrow_pred'] = trade_dataset['y_cls_pred'].shift(-1)\n",
        "  trade_dataset.fillna(0,inplace=True)\n",
        "\n",
        "  num_share=0\n",
        "  money=1000000\n",
        "  init_money=money\n",
        "\n",
        "  for day, row in trade_dataset.iterrows():\n",
        "    if (row['Tomorrow_pred']==1):\n",
        "      if (money>row['Close']):\n",
        "        num_share+=1\n",
        "        money-=(row['Close'])\n",
        "\n",
        "    elif (row['Tomorrow_pred']==0 and num_share>0):\n",
        "      money+=num_share*(row['Close'])\n",
        "      num_share=0\n",
        "\n",
        "  if (num_share>0):\n",
        "    print(left)\n",
        "  change=float(((money-init_money)/init_money)*100)\n",
        "  return change\n"
      ],
      "execution_count": null,
      "outputs": []
    },
    {
      "cell_type": "code",
      "metadata": {
        "id": "eHiNXnsZx6Dc"
      },
      "source": [
        "#To find the best model configuration\n",
        "\n",
        "max=0.0\n",
        "final_leaf=0\n",
        "final_depth=0\n",
        "\n",
        "for depth in range(3,20):\n",
        "\n",
        "    for leaf in range(3,10):\n",
        "      clf = DecisionTreeClassifier(criterion='entropy',max_depth=depth, min_samples_leaf=leaf)\n",
        "      clf = clf.fit(X_cls_train, y_cls_train)\n",
        "      y_cls_pred = clf.predict(X_cls_test)\n",
        "      change=returns(df_tree,clf,y_cls_pred)\n",
        "\n",
        "      if (change>max):\n",
        "        max=change\n",
        "        final_leaf=leaf\n",
        "        final_depth=depth\n",
        "        print('===============',depth)\n",
        "        print('==',leaf)\n",
        "        print(max)"
      ],
      "execution_count": null,
      "outputs": []
    },
    {
      "cell_type": "code",
      "metadata": {
        "id": "R8JvcWQDyBoY"
      },
      "source": [
        "#Using the obtained depth and leaf to make the decision tree\n",
        "\n",
        "print(final_depth,final_leaf)\n",
        "clf = DecisionTreeClassifier(criterion='entropy',max_depth=final_depth,min_samples_leaf=final_leaf)\n",
        "clf = clf.fit(X_cls_train, y_cls_train)\n",
        "y_cls_pred = clf.predict(X_cls_test)\n",
        "report = classification_report(y_cls_test, y_cls_pred)\n",
        "print(report)"
      ],
      "execution_count": null,
      "outputs": []
    },
    {
      "cell_type": "code",
      "metadata": {
        "id": "WnlSAYrCyD15"
      },
      "source": [
        "#Visualizing the tree\n",
        "\n",
        "dot_data = tree.export_graphviz(clf, out_file=None,filled=True,feature_names=predictors_list)\n",
        "graphviz.Source(dot_data)\n",
        "graphviz.Source(dot_data).format='png'\n",
        "graphviz.Source(dot_data).render('dtree_render',view=True)"
      ],
      "execution_count": null,
      "outputs": []
    },
    {
      "cell_type": "code",
      "metadata": {
        "id": "die9aqBzyGbh"
      },
      "source": [
        "#Storing the decision tree predictions\n",
        "\n",
        "trade_dataset['Tree_pred']=y_cls_pred\n",
        "trade_dataset['Tree_pred'].iloc[-1]=0\n",
        "print(trade_dataset)"
      ],
      "execution_count": null,
      "outputs": []
    },
    {
      "cell_type": "markdown",
      "metadata": {
        "id": "FLDEb5HNz7O4"
      },
      "source": [
        "Lstm Network: "
      ]
    },
    {
      "cell_type": "code",
      "metadata": {
        "id": "7npvVqLIF5rE"
      },
      "source": [
        "path='/content/drive/MyDrive/stockmarket/RELIANCE.NS.csv'\n",
        "df_lstm=pd.read_csv(path,header=0,usecols=['Date','Close'],parse_dates=True,index_col='Date')\n",
        "df_lstm=df_lstm.dropna()"
      ],
      "execution_count": null,
      "outputs": []
    },
    {
      "cell_type": "code",
      "metadata": {
        "id": "5obCjQxTz-Y4"
      },
      "source": [
        "#Normalizing the data\n",
        "\n",
        "scaler=MinMaxScaler()\n",
        "scaled_data=scaler.fit_transform (df_lstm)\n",
        "print(scaled_data)"
      ],
      "execution_count": null,
      "outputs": []
    },
    {
      "cell_type": "code",
      "metadata": {
        "id": "Hn7ZNP9a0Bd5"
      },
      "source": [
        "#Spliting the data into training and testing\n",
        "\n",
        "train_length=int(len(scaled_data)*0.7)\n",
        "test_length=len(scaled_data)-train_length\n",
        "train_data=scaled_data[0:train_length,:]\n",
        "test_data=scaled_data[train_length:len(scaled_data),:]\n",
        "\n",
        "print(test_length)"
      ],
      "execution_count": null,
      "outputs": []
    },
    {
      "cell_type": "code",
      "metadata": {
        "id": "na2MY1rO0LVI"
      },
      "source": [
        "def create_dataset(dataset,timestep=1):\n",
        "  data_x,data_y=[],[]\n",
        "  for i in range(len(dataset)-timestep-1):\n",
        "    data_x.append(dataset[i:(i+timestep),0])\n",
        "    data_y.append(dataset[i+timestep,0])\n",
        "\n",
        "  return np.array(data_x),np.array(data_y)\n"
      ],
      "execution_count": null,
      "outputs": []
    },
    {
      "cell_type": "code",
      "metadata": {
        "id": "b7z4EAkY0MV4"
      },
      "source": [
        "timestep=10\n",
        "train_x,train_y=create_dataset(train_data,timestep)\n",
        "test_x,test_y=create_dataset(test_data,timestep)\n",
        "print(test_x.shape)"
      ],
      "execution_count": null,
      "outputs": []
    },
    {
      "cell_type": "code",
      "metadata": {
        "id": "HT1M7tk_G00D"
      },
      "source": [
        "train_x=np.reshape(train_x,(train_x.shape[0],1,train_x.shape[1]))\n",
        "test_x=np.reshape(test_x,(test_x.shape[0],1,test_x.shape[1]))"
      ],
      "execution_count": null,
      "outputs": []
    },
    {
      "cell_type": "code",
      "metadata": {
        "id": "wvanyc2s0S70"
      },
      "source": [
        "#Defining the model architecture \n",
        "\n",
        "model=Sequential()\n",
        "\n",
        "model.add(LSTM(256,return_sequences = True,input_shape=(1,timestep)))\n",
        "model.add(Dropout(0.2))\n",
        "model.add(LSTM(units = 128, return_sequences = True))\n",
        "model.add(Dropout(0.2))\n",
        "model.add(LSTM(units = 256))\n",
        "model.add(Dropout(0.2))\n",
        "model.add(Dense(1,activation='sigmoid'))\n",
        "\n",
        "model.compile(loss='mean_squared_error',optimizer='adam',metrics=['accuracy'])\n",
        "\n",
        "model.summary()"
      ],
      "execution_count": null,
      "outputs": []
    },
    {
      "cell_type": "code",
      "metadata": {
        "id": "pBtEfVju0Vur"
      },
      "source": [
        "model.fit(train_x,train_y,epochs=1,batch_size=1,verbose=1)\n",
        "score=model.evaluate(train_x,train_y,verbose=0)\n",
        "\n",
        "print('Loss=',score[0])\n",
        "print('Accuracy=',score[1])"
      ],
      "execution_count": null,
      "outputs": []
    },
    {
      "cell_type": "code",
      "metadata": {
        "id": "ac92gMqt0X7Q"
      },
      "source": [
        "#Getting the prediction from the model\n",
        "\n",
        "train_predict=model.predict(train_x)\n",
        "test_predict=model.predict(test_x)"
      ],
      "execution_count": null,
      "outputs": []
    },
    {
      "cell_type": "code",
      "metadata": {
        "id": "cG36Hlgc0aeo"
      },
      "source": [
        "#Converting to unnormalized data\n",
        "\n",
        "train_predict=scaler.inverse_transform(train_predict)\n",
        "train_y=scaler.inverse_transform([train_y])\n",
        "\n",
        "test_predict=scaler.inverse_transform(test_predict)\n",
        "test_y=scaler.inverse_transform([test_y])"
      ],
      "execution_count": null,
      "outputs": []
    },
    {
      "cell_type": "code",
      "metadata": {
        "id": "Ds5b-nIiLa6N"
      },
      "source": [
        "print(test_predict)"
      ],
      "execution_count": null,
      "outputs": []
    },
    {
      "cell_type": "code",
      "metadata": {
        "id": "UgjYwTD90cuA"
      },
      "source": [
        "#Storing the prediction of the lstm network\n",
        "\n",
        "trade_dataset['price_pred']=np.NaN\n",
        "trade_dataset.iloc[(len(trade_dataset) - len(test_predict)):,-1:] = test_predict\n",
        "trade_dataset=trade_dataset.dropna()\n",
        "trade_dataset['Lstm_pred']=np.where(trade_dataset['price_pred'].shift(-1) > trade_dataset['price_pred'], 1, 0)\n",
        "trade_dataset['Tree_pred'].iloc[-1]=0\n",
        "\n",
        "print(trade_dataset)"
      ],
      "execution_count": null,
      "outputs": []
    },
    {
      "cell_type": "code",
      "metadata": {
        "id": "2PwZrWin56bL"
      },
      "source": [
        "train_predict_plot=np.empty_like(scaled_data)\n",
        "train_predict_plot[:,:]=np.nan\n",
        "train_predict_plot[1:len(train_predict)+1,:]=train_predict\n",
        "\n",
        "test_predict_plot=np.empty_like(scaled_data)\n",
        "test_predict_plot[:,:]=np.nan\n",
        "test_predict_plot[len(train_predict)+1+(timestep*2):len(scaled_data)-1,:]=test_predict"
      ],
      "execution_count": null,
      "outputs": []
    },
    {
      "cell_type": "code",
      "metadata": {
        "id": "VLlGfmmd59Af"
      },
      "source": [
        "#Obtaining the graph of actual stock price vs predicited price \n",
        "\n",
        "plt.figure(figsize=(15,5))\n",
        "plt.plot(scaler.inverse_transform(scaled_data),label='Actual Stock Price')\n",
        "plt.plot(train_predict_plot, label='Price Predicted during Traning')\n",
        "plt.plot(test_predict_plot,label='Price Predicited during Testing')\n",
        "plt.xlabel(\"Day\",fontsize=15)\n",
        "plt.ylabel(\"Price\",fontsize=15)\n",
        "plt.legend(framealpha=1, frameon=True)\n",
        "plt.savefig('/content/drive/MyDrive/stockmarket/figures/lstm_prediction.jpeg')\n",
        "plt.show()\n"
      ],
      "execution_count": null,
      "outputs": []
    },
    {
      "cell_type": "markdown",
      "metadata": {
        "id": "-P3sUtmbSJ79"
      },
      "source": [
        "Ensemble Learning:"
      ]
    },
    {
      "cell_type": "code",
      "metadata": {
        "id": "4ZFwPtcjHLMr"
      },
      "source": [
        "#Pre processing the data for ensemble learning\n",
        "\n",
        "trade_dataset['Rl_pred'] = trade_dataset['Rl_pred'].apply(lambda x: int(x))\n",
        "\n",
        "print(trade_dataset)"
      ],
      "execution_count": null,
      "outputs": []
    },
    {
      "cell_type": "code",
      "metadata": {
        "id": "5GxZF39zTNJQ"
      },
      "source": [
        "#Taking max voting from all the model and storing it\n",
        "\n",
        "from statistics import mode\n",
        "\n",
        "trade_dataset['Final_pred']=np.NaN\n",
        "\n",
        "for day,row in trade_dataset.iterrows():\n",
        "  trade_dataset.at[day,'Final_pred']=mode([row['Rl_pred'],row['Tree_pred'],row['Lstm_pred']])\n",
        "\n",
        "print(trade_dataset)"
      ],
      "execution_count": null,
      "outputs": []
    },
    {
      "cell_type": "code",
      "metadata": {
        "id": "jPdgjzkbbK75"
      },
      "source": [
        "#Function to calculate the result and obtaining the graphs\n",
        "\n",
        "def trade_result(name,method):\n",
        "\n",
        "  num_share=0\n",
        "  money=100000\n",
        "  init_money=money\n",
        "\n",
        "  td=trade_dataset\n",
        "  td['buy']=0\n",
        "  returns=[]\n",
        "  last_value=init_money\n",
        "\n",
        "  for day, row in trade_dataset.iterrows():\n",
        "    if (row[method]==1):\n",
        "      if (money>row['Close']):\n",
        "        num_share+=1\n",
        "        money-=(row['Close'])\n",
        "        td.at[day,'buy']=1\n",
        "\n",
        "    elif (row[method]==0 and num_share>0):\n",
        "      money+=num_share*(row['Close'])\n",
        "      td.at[day,'buy']=-1\n",
        "      num_share=0\n",
        "      last_value=money\n",
        "\n",
        "    returns.append(last_value)\n",
        "\n",
        "  change=float(((money-init_money)/init_money)*100)\n",
        "  profit=money-init_money\n",
        "\n",
        "  td['returns']=returns\n",
        "\n",
        "  path1='/content/drive/MyDrive/stockmarket/figures/'+name+'_buy.png'\n",
        "  path2='/content/drive/MyDrive/stockmarket/figures/'+name+'_portfolio.png'\n",
        "\n",
        "\n",
        "  plt.figure(figsize=(15,10))\n",
        "  plt.plot(td['Close'])\n",
        "  plt.scatter(td.loc[td['buy'] ==1].index,td.loc[td['buy'] ==1, 'Close'].values, label='skitscat', color='green', s=25, marker=\"^\")\n",
        "  plt.scatter(td.loc[td['buy'] ==-1].index,td.loc[td['buy'] ==-1, 'Close'].values, label='skitscat', color='red', s=25, marker=\"v\")\n",
        "  plt.title(name+\": Total Profit: %.6f\" % profit + ' ~ ' +\n",
        "              \"Percentage Change: %.6f\" % change,fontsize=15)\n",
        "  plt.xlabel(\"Date\",fontsize=15)\n",
        "  plt.ylabel(\"Price\",fontsize=15)\n",
        "  \n",
        "  plt.savefig(path1)\n",
        "\n",
        "  plt.figure(figsize=(15,10))\n",
        "  plt.plot(td['returns'])\n",
        "  plt.title( name+\": Portfolio Value Over Time\",fontsize=15)\n",
        "  plt.xlabel(\"Date\",fontsize=15)\n",
        "  plt.ylabel(\"Money\",fontsize=15)\n",
        "\n",
        "  plt.savefig(path2)\n",
        "\n",
        "\n",
        "\n"
      ],
      "execution_count": null,
      "outputs": []
    },
    {
      "cell_type": "code",
      "metadata": {
        "id": "ckTWyjY7b0Mo"
      },
      "source": [
        "#Obtaining Results from all the model \n",
        "\n",
        "trade_result('Reinforcement Learning','Rl_pred')\n",
        "trade_result('Decision Tree','Tree_pred')\n",
        "trade_result('LSTM Network','Lstm_pred')\n",
        "trade_result('Ensemble Learning','Final_pred')"
      ],
      "execution_count": null,
      "outputs": []
    }
  ]
}